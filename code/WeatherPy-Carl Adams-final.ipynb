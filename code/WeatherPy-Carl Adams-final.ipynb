{
 "cells": [
  {
   "cell_type": "code",
   "execution_count": null,
   "metadata": {},
   "outputs": [],
   "source": [
    "## Some Observations after Performing Analysis\n",
    "\n",
    "# 1) As the first scatter plot shows, there is a very strong correlation between\n",
    "#    distance from the equator (measured degrees latitude) and maximum temperatures.\n",
    "\n",
    "# 2) The data plotted in the last grid shows that windspeeds tend to be higher\n",
    "#    far north of the equator than they are far south of the equator.\n",
    "\n",
    "# 3)  According to the data visually depicted in the 2nd and 3rd scatter plots,\n",
    "#     there does not appear to be much of any relationship between distance from the\n",
    "#     equator (in degrees latitude) and percentage of cloudiness or humidity.\n",
    "\n",
    "# 4)  Generally, most locations in the sample have a greater than 60% level of humidity\n",
    "#     regardless of the distance from the equator. It would be interesting to see if this\n",
    "#     pattern was similar say 20 or 30 years ago, or even further back before global\n",
    "#     warming became a hot topic (no pun intended).\n",
    "##"
   ]
  },
  {
   "cell_type": "code",
   "execution_count": null,
   "metadata": {
    "scrolled": true
   },
   "outputs": [],
   "source": [
    "# Dependencies and Setup\n",
    "import matplotlib.pyplot as plt\n",
    "from matplotlib import style\n",
    "style.use('ggplot')\n",
    "import pandas as pd\n",
    "import numpy as np\n",
    "import requests\n",
    "import time\n",
    "from datetime import datetime\n",
    "import json\n",
    "from config import api_key\n",
    "\n",
    "# Incorporated citipy to determine city based on latitude and longitude\n",
    "from citipy import citipy\n",
    "\n",
    "# Output File (CSV)\n",
    "output_data_file = \"../Output/weather_data.csv\"\n",
    "\n",
    "# Range of latitudes and longitudes\n",
    "lat_range = (-90, 90)\n",
    "lng_range = (-180, 180)"
   ]
  },
  {
   "cell_type": "markdown",
   "metadata": {},
   "source": [
    "## Generate Cities List"
   ]
  },
  {
   "cell_type": "code",
   "execution_count": null,
   "metadata": {},
   "outputs": [],
   "source": [
    "# List for holding lat_lngs and cities\n",
    "lat_lngs = []\n",
    "cities = []\n",
    "counter = 0\n",
    "\n",
    "# Create a set of random lat and lng combinations\n",
    "lats = np.random.uniform(low=-90.000, high=90.000, size=1500)\n",
    "lngs = np.random.uniform(low=-180.000, high=180.000, size=1500)\n",
    "lat_lngs = zip(lats, lngs)\n",
    "\n",
    "# Identify nearest city for each lat, lng combination\n",
    "for lat_lng in lat_lngs:\n",
    "    city = citipy.nearest_city(lat_lng[0], lat_lng[1]).city_name\n",
    "    \n",
    "    # If the city is unique, then add it to a our cities list\n",
    "    if city not in cities:\n",
    "        cities.append(city)\n",
    "        counter += 1\n",
    "\n",
    "# Print the city count to confirm sufficient count\n",
    "print(len(cities))\n",
    "\n"
   ]
  },
  {
   "cell_type": "code",
   "execution_count": null,
   "metadata": {},
   "outputs": [],
   "source": [
    "# set a dataframe to hold variables\n",
    "weather_data = pd.DataFrame({\"Cities\": cities})\n",
    "weather_data.head()"
   ]
  },
  {
   "cell_type": "markdown",
   "metadata": {},
   "source": [
    "## Perform API Calls"
   ]
  },
  {
   "cell_type": "code",
   "execution_count": null,
   "metadata": {},
   "outputs": [],
   "source": [
    "\n",
    "# Starting URL for Weather Map API Call\n",
    "City = []\n",
    "Country = []\n",
    "Datetime = []\n",
    "Latitude = []\n",
    "Temperature = []\n",
    "Humidity = []\n",
    "Cloudiness = []\n",
    "Windspeed = []\n",
    "\n",
    "print(\"Beginning Data Retrieval\")\n",
    "print(\"----------------------------------\")\n",
    "for index, row in weather_data.iterrows():\n",
    "    \n",
    "    url = \"http://api.openweathermap.org/data/2.5/weather?units=Imperial&APPID=\" + api_key\n",
    "\n",
    "    city = row['Cities']\n",
    "    \n",
    "    # update address key value\n",
    "    \n",
    "    city_url = (f\"{url}&q={city}\")\n",
    "    \n",
    "    # make request\n",
    "    \n",
    "    weather_response = requests.get(city_url)\n",
    " \n",
    "    \n",
    "#     # print the weather_json url, avoid doing for public github repos in order to avoid exposing key\n",
    "    print(f\"Processing record {index}: {city}. The url is included below.\")\n",
    "    print(city_url)\n",
    "    \n",
    "    # convert to json\n",
    "    \n",
    "    weather_json = weather_response.json()\n",
    "    print(\"------------------------------------------\")\n",
    "    \n",
    "    try:\n",
    "        city = weather_json['name']\n",
    "        City.append(city)\n",
    "        country = weather_json['sys']['country']\n",
    "        Country.append(country)\n",
    "        datetime = weather_json['dt']\n",
    "        Datetime.append(datetime)\n",
    "        lat = weather_json['coord']['lat']\n",
    "        Latitude.append(lat)\n",
    "        temp = weather_json['main']['temp_max']\n",
    "        Temperature.append(temp)\n",
    "        humid = weather_json['main']['humidity']\n",
    "        Humidity.append(humid)\n",
    "        cloud = weather_json['clouds']['all']\n",
    "        Cloudiness.append(cloud)\n",
    "        windy = weather_json['wind']['speed']\n",
    "        Windspeed.append(windy)\n",
    "        \n",
    "        # save data to a csv file\n",
    "\n",
    "    except (KeyError, IndexError):\n",
    "    \n",
    "        print(\"city not tracked in weather app\")\n",
    "    \n",
    "        print(\"skipped\")\n",
    "              \n",
    "        \n",
    "print(\"----------------------------\")\n",
    "print(\"  Data Retrieval Completed  \")\n",
    "print(\"----------------------------\")"
   ]
  },
  {
   "cell_type": "markdown",
   "metadata": {},
   "source": [
    "## Store the collected data into a DataFrame"
   ]
  },
  {
   "cell_type": "code",
   "execution_count": null,
   "metadata": {},
   "outputs": [],
   "source": [
    "# Define a new DataFrame using the weather data collected.\n",
    "weather_data_df = pd.DataFrame({\"City\": City, \"Country\": Country, \n",
    "                                \"Datetime\": Datetime, \n",
    "                                \"Latitude\": Latitude, \"Max Temperature (F)\": Temperature, \"Humidity %\": Humidity, \n",
    "                                \"Cloudiness %\": Cloudiness, \"Windspeed (mph)\": Windspeed})\n",
    "\n",
    "weather_data_df.count()"
   ]
  },
  {
   "cell_type": "code",
   "execution_count": null,
   "metadata": {},
   "outputs": [],
   "source": [
    "# copy the results into the previously defined csv file\n",
    "weather_data_df.to_csv(output_data_file, index=False, header=True)\n",
    "weather_data_df.head()"
   ]
  },
  {
   "cell_type": "code",
   "execution_count": null,
   "metadata": {},
   "outputs": [],
   "source": [
    "# convert the timestamp in the data to determine the date and time (GMT) \n",
    "# the analysis was started\n",
    "timestamp = weather_data_df.iloc[0,2]\n",
    "print(timestamp)\n",
    "converted_timestamp = pd.Timestamp(timestamp, unit='s')\n",
    "print(converted_timestamp)"
   ]
  },
  {
   "cell_type": "markdown",
   "metadata": {},
   "source": [
    "## Generate Scatter Plots to Visualize Results"
   ]
  },
  {
   "cell_type": "code",
   "execution_count": null,
   "metadata": {},
   "outputs": [],
   "source": [
    "\n",
    "weather_data_df.plot(kind=\"scatter\", x=\"Latitude\", y=\"Max Temperature (F)\", grid=True, \n",
    "                    figsize=(17, 13), title=f\"City Latitude vs Maximum Temperature (F) at {converted_timestamp}\")\n",
    "plt.savefig(\"../Images/latitude_v_max_temp.png\")\n",
    "plt.show()"
   ]
  },
  {
   "cell_type": "code",
   "execution_count": null,
   "metadata": {},
   "outputs": [],
   "source": [
    "weather_data_df.plot(kind=\"scatter\", x=\"Latitude\", y=\"Humidity %\", grid=True, \n",
    "                    figsize=(17,13), title=f\"City Latitude vs Humidity (%) at {converted_timestamp}\")\n",
    "plt.savefig(\"../Images/latitude_v_humidity.png\")\n",
    "plt.show()"
   ]
  },
  {
   "cell_type": "code",
   "execution_count": null,
   "metadata": {},
   "outputs": [],
   "source": [
    "weather_data_df.plot(kind=\"scatter\", x=\"Latitude\", y=\"Cloudiness %\", grid=True, \n",
    "                    figsize=(17,13), title=f\"City Latitude vs Cloudiness (%) at  {converted_timestamp}\")\n",
    "plt.savefig(\"../Images/latitude_v_cloudiness.png\")\n",
    "plt.show()"
   ]
  },
  {
   "cell_type": "code",
   "execution_count": null,
   "metadata": {},
   "outputs": [],
   "source": [
    "weather_data_df.plot(kind=\"scatter\", x=\"Latitude\", y=\"Windspeed (mph)\", grid=True, \n",
    "                    figsize=(17,13), title=f\"City Latitude vs Windspeed (mph) at  {converted_timestamp}\")\n",
    "plt.savefig(\"../Images/latitude_v_windspeed.png\")\n",
    "plt.show()"
   ]
  },
  {
   "cell_type": "code",
   "execution_count": null,
   "metadata": {},
   "outputs": [],
   "source": []
  }
 ],
 "metadata": {
  "anaconda-cloud": {},
  "kernelspec": {
   "display_name": "Python 3",
   "language": "python",
   "name": "python3"
  },
  "language_info": {
   "codemirror_mode": {
    "name": "ipython",
    "version": 3
   },
   "file_extension": ".py",
   "mimetype": "text/x-python",
   "name": "python",
   "nbconvert_exporter": "python",
   "pygments_lexer": "ipython3",
   "version": "3.6.5"
  }
 },
 "nbformat": 4,
 "nbformat_minor": 1
}
